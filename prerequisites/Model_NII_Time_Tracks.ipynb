{
 "cells": [
  {
   "cell_type": "code",
   "execution_count": null,
   "id": "5a456bb5",
   "metadata": {},
   "outputs": [],
   "source": [
    "import numpy as np\n",
    "import matplotlib.pyplot as plt\n",
    "import sys\n",
    "import add_funcs_231023 as af\n",
    "import os\n",
    "\n",
    "from scipy import integrate\n",
    "from astropy.io import ascii\n",
    "from tqdm import tqdm"
   ]
  },
  {
   "cell_type": "code",
   "execution_count": null,
   "id": "e50efca9",
   "metadata": {},
   "outputs": [],
   "source": [
    "#Set some global parameters\n",
    "\n",
    "lambda_min = 5000\n",
    "lambda_max = 8000"
   ]
  },
  {
   "cell_type": "code",
   "execution_count": null,
   "id": "66f87d4b",
   "metadata": {},
   "outputs": [],
   "source": [
    "#Load in the models:\n",
    "\n",
    "string_epochs = np.array(['150d', '200d', '250d', '300d', '350d', '400d']) #Days\n",
    "string_mixings = np.array(['40_60', '18_82', '10_90', '10_90', '10_90'])\n",
    "string_masses = np.array(['3p3', '4p0', '5p0', '6p0', '8p0'])\n",
    "git_folder_loc = '/home/stba7609/'\n",
    "\n",
    "wl_lists, flux_lists, NII_flux_lists = [], [], []\n",
    "\n",
    "for i in range(len(string_epochs)):\n",
    "    \n",
    "    epoch = string_epochs[i]\n",
    "    local_wl_list, local_flux_list, local_NII_flux_list = [], [], []\n",
    "    \n",
    "    for k in range(len(string_masses)):\n",
    "            \n",
    "            model_name = 'he' + string_masses[k] + '_AJ_' + string_mixings[k]\n",
    "            spectrum_path = git_folder_loc + 'NII_nebular_phase/SUMO_results/' + epoch + \"/spectrum_\" + model_name + \".datrun001\"\n",
    "            data = ascii.read(spectrum_path)\n",
    "            \n",
    "            local_wl_list.append(data['col1'])\n",
    "            local_flux_list.append(data['col2'])\n",
    "            local_NII_flux_list.append(data['col15'])\n",
    "            \n",
    "    wl_lists.append(local_wl_list)\n",
    "    flux_lists.append(local_flux_list)\n",
    "    NII_flux_lists.append(local_NII_flux_list)"
   ]
  },
  {
   "cell_type": "code",
   "execution_count": null,
   "id": "f11bd445",
   "metadata": {
    "scrolled": true
   },
   "outputs": [],
   "source": [
    "#Get the NII fitted fluxes\n",
    "NII_percentages_fit = np.zeros((len(string_masses), len(string_epochs)))\n",
    "NII_sigma_fit = np.zeros((len(string_masses), len(string_epochs)))\n",
    "epochs = np.array([150, 200, 250, 300, 350, 400])\n",
    "\n",
    "for i in tqdm(range(len(string_masses))):\n",
    "        \n",
    "    wl_list, flux_list, local_epochs = [], [], []\n",
    "    for k in range(len(string_epochs)):\n",
    "\n",
    "        wl, flux = np.array(wl_lists[k][i]), np.array(flux_lists[k][i])\n",
    "\n",
    "        zoom_mask = (wl > lambda_min) * (wl < lambda_max)\n",
    "        wl_zoom, flux_zoom = wl[zoom_mask], flux[zoom_mask]\n",
    "\n",
    "        wl_list.append(wl_zoom)\n",
    "        flux_list.append(flux_zoom)\n",
    "        local_epochs.append(float(string_epochs[k][:3]))\n",
    "    \n",
    "    \n",
    "    popt_best, pcov_best, score_g, tau_best, g_check = af.simultaneous_fitting_g(wl_list, flux_list, local_epochs, plot = True)\n",
    "    if g_check == True: #The velocity for the Gaussian NII is accepted, so we continue with a gaussian\n",
    "        shape = 'g'\n",
    "        pass\n",
    "    elif g_check == False: #The velocity is too high, meaning a tophat is a better fit\n",
    "        popt_best, pcov_best, score_th, tau_best = af.simultaneous_fitting_th(wl_list, flux_list, local_epochs, plot = True)\n",
    "        shape = 'th'\n",
    "        \n",
    "        print('The scores are for g and th: ', score_g, score_th)\n",
    "\n",
    "    print('The best params are', popt_best)\n",
    "    \n",
    "    for k in range(len(string_epochs)):\n",
    "        wl, flux = wl_list[k], flux_list[k]\n",
    "        popt, pcov = popt_best[k], pcov_best[k]\n",
    "        integrated_NII_flux_my_method, sigma_NII = af.observed_flux_from_fit(wl, flux, popt, pcov, lambda_min, lambda_max, shape)\n",
    "\n",
    "        print(string_masses[i], string_epochs[k])\n",
    "        print(\"The NII doublet carries: \", \"{0:.2f}\".format(integrated_NII_flux_my_method*100), \"pm \", \"{0:.2f}\".format(sigma_NII*100),  \"% of the selected region\")\n",
    "\n",
    "        NII_percentages_fit[i, k] = integrated_NII_flux_my_method*100\n",
    "        NII_sigma_fit[i, k] = sigma_NII*100\n",
    "    "
   ]
  },
  {
   "cell_type": "code",
   "execution_count": null,
   "id": "023ebe25",
   "metadata": {},
   "outputs": [],
   "source": [
    "plt.rcParams[\"font.size\"] = 20"
   ]
  },
  {
   "cell_type": "code",
   "execution_count": null,
   "id": "c34ba5ac",
   "metadata": {},
   "outputs": [],
   "source": [
    "#Make the plot\n",
    "fig, ax = plt.subplots(1, 5, sharex = True, sharey = True)\n",
    "\n",
    "colours = ['green', 'yellow', 'orange', 'red', 'blue']\n",
    "\n",
    "epochs = np.array([150, 200, 250, 300, 350, 400])\n",
    "trues = [[10.4, 12.6, 15.6], [7.5, 9.3, 12.0], [6.3, 8.2, 10.9], [4.2, 5.4, 7], [1.2, 1.6, 1.9]]\n",
    "\n",
    "for i in range(len(string_masses)):\n",
    "    \n",
    "    this_label = \"Fit he\" + string_masses[i] + \"_\" + string_mixings[i]\n",
    "    ax[i].errorbar(epochs, NII_percentages_fit[i, :], NII_sigma_fit[i, :], color = colours[i], label = this_label)\n",
    "    ax[i].errorbar(epochs[3:], trues[i])\n",
    "    ax[i].set_xlabel('Time since explosion [d]')\n",
    "    ax[i].legend(fontsize = 14)\n",
    "    \n",
    "ax[0].set_ylabel('Percentage flux in the NII doublet')\n",
    "fig.set_size_inches(20, 12)\n",
    "\n",
    "plt.show()"
   ]
  },
  {
   "cell_type": "markdown",
   "id": "36f3dd70",
   "metadata": {},
   "source": [
    "## Save the tracks + errors"
   ]
  },
  {
   "cell_type": "code",
   "execution_count": null,
   "id": "f42bb10a",
   "metadata": {
    "scrolled": false
   },
   "outputs": [],
   "source": [
    "for i in range(len(string_masses)):\n",
    "    save_folder = git_folder_loc + '/NII_nebular_phase/prerequisites/model_tracks/'\n",
    "    save_name = 'NII_track_he' + string_masses[i] + '.csv'\n",
    "    final_product = np.zeros((len(string_epochs), 3))\n",
    "    for j in range(len(string_epochs)):\n",
    "        final_product[j, 0] = float(string_epochs[j][:3])\n",
    "    final_product[:, 1] = NII_percentages_fit[i, :]\n",
    "    final_product[:, 2] = NII_sigma_fit[i, :]\n",
    "    \n",
    "    np.savetxt(fname = save_folder + save_name, X = final_product, delimiter = ',', header = 'Epoch [d], NII_percentage, NII_percentage_sig')"
   ]
  },
  {
   "cell_type": "code",
   "execution_count": null,
   "id": "0b58467a",
   "metadata": {},
   "outputs": [],
   "source": []
  }
 ],
 "metadata": {
  "kernelspec": {
   "display_name": "Python 3 (ipykernel)",
   "language": "python",
   "name": "python3"
  },
  "language_info": {
   "codemirror_mode": {
    "name": "ipython",
    "version": 3
   },
   "file_extension": ".py",
   "mimetype": "text/x-python",
   "name": "python",
   "nbconvert_exporter": "python",
   "pygments_lexer": "ipython3",
   "version": "3.11.5"
  }
 },
 "nbformat": 4,
 "nbformat_minor": 5
}
