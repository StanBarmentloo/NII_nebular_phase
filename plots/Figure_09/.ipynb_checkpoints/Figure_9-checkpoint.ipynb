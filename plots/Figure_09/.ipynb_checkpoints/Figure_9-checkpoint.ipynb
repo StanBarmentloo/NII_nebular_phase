{
 "cells": [
  {
   "cell_type": "code",
   "execution_count": null,
   "id": "848ad098",
   "metadata": {},
   "outputs": [],
   "source": [
    "import numpy as np\n",
    "import matplotlib.pyplot as plt"
   ]
  },
  {
   "cell_type": "code",
   "execution_count": null,
   "id": "f1f38636",
   "metadata": {},
   "outputs": [],
   "source": [
    "#Read in\n",
    "\n",
    "data_1 = np.loadtxt('x1')\n",
    "data_15 = np.loadtxt('x15')\n",
    "data_2 = np.loadtxt('x2')"
   ]
  },
  {
   "cell_type": "code",
   "execution_count": null,
   "id": "aa30574d",
   "metadata": {},
   "outputs": [],
   "source": [
    "#Make into x, y \n",
    "\n",
    "x_1 = data_1[:, 1]\n",
    "x_15 = data_15[:, 1]\n",
    "x_2 = data_2[:, 1]\n",
    "\n",
    "y_1 = data_1[:, 6]/(data_1[:, 1]-data_1[:, 9])\n",
    "y_15 = data_15[:, 6]/(data_15[:, 1]-data_15[:, 8])\n",
    "y_2 = data_2[:, 6]/(data_2[:, 1]-data_2[:, 8])\n",
    "\n",
    "\n",
    "x_0 = np.array([3, 3.5, 4, 4.5, 5, 5.5, 6])\n",
    "y_0 = np.array([0.00444, 0.00358, 0.00298, 0.00234, 0.00211, 0.00164, 0.000505])"
   ]
  },
  {
   "cell_type": "code",
   "execution_count": null,
   "id": "4b6cda40",
   "metadata": {},
   "outputs": [],
   "source": [
    "#Plot it\n",
    "\n",
    "fig, ax = plt.subplots(1)\n",
    "\n",
    "ax.plot(x_0, y_0, c = 'purple', label = 'No mass loss')\n",
    "ax.plot(x_1, y_1, c = 'b', label = 'Standard mass loss')\n",
    "ax.plot(x_15, y_15, c = 'r', label = '50% increased mass loss')\n",
    "ax.plot(x_2, y_2, c = 'black', label = '100% increased mass loss')\n",
    "\n",
    "\n",
    "ax.set_xlim(2.5, 5.6)\n",
    "ax.set_ylim(0.0012, 0.006)\n",
    "ax.set_xlabel(r'$M_{preSN}$ [$M_{\\odot}$]', fontsize = 12)\n",
    "ax.set_ylabel(r'$^{14}$N mass fraction ejected', fontsize = 12)\n",
    "\n",
    "fig.set_size_inches(4, 3)\n",
    "\n",
    "ax.legend(frameon = False)\n",
    "plt.savefig('Figure_9.pdf', dpi = 300, bbox_inches = 'tight')\n",
    "plt.show()"
   ]
  },
  {
   "cell_type": "code",
   "execution_count": null,
   "id": "7082b966",
   "metadata": {},
   "outputs": [],
   "source": []
  }
 ],
 "metadata": {
  "kernelspec": {
   "display_name": "Python 3 (ipykernel)",
   "language": "python",
   "name": "python3"
  },
  "language_info": {
   "codemirror_mode": {
    "name": "ipython",
    "version": 3
   },
   "file_extension": ".py",
   "mimetype": "text/x-python",
   "name": "python",
   "nbconvert_exporter": "python",
   "pygments_lexer": "ipython3",
   "version": "3.11.5"
  }
 },
 "nbformat": 4,
 "nbformat_minor": 5
}
