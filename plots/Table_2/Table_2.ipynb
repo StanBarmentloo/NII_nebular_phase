{
 "cells": [
  {
   "cell_type": "code",
   "execution_count": 1,
   "id": "ea8aff9f",
   "metadata": {},
   "outputs": [],
   "source": [
    "import numpy as np"
   ]
  },
  {
   "cell_type": "code",
   "execution_count": 2,
   "id": "5d1ee0ca",
   "metadata": {},
   "outputs": [],
   "source": [
    "#Read in the predictions\n",
    "mass_pred = np.loadtxt('mass_predictions.csv', delimiter = ',', dtype = str)"
   ]
  },
  {
   "cell_type": "code",
   "execution_count": 3,
   "id": "3598f8e7",
   "metadata": {},
   "outputs": [],
   "source": [
    "#Create the table\n",
    "\n",
    "\n",
    "final_table = ''\n",
    "#First add rows with literature predictions\n",
    "\n",
    "for i in range(len(mass_pred)):\n",
    "    \n",
    "    if mass_pred[i, 2] == '-1.0': #We could not make a prediction due to lack of sufficiently late spectra\n",
    "        pass\n",
    "    \n",
    "    elif mass_pred[i, 5] == '--': #Let us sort by those that do have lit predictions and those that dont\n",
    "        pass\n",
    "    else:\n",
    "        this_line = mass_pred[i, 0] + ' & ' + mass_pred[i, 1] + ' & '\n",
    "        \n",
    "        lim_val = float(mass_pred[i, 8])\n",
    "        if lim_val == 0: # This is the lim index, which tells us if the values are lower or upper limits\n",
    "            this_line += mass_pred[i, 2] + '$^{+' + mass_pred[i, 4] + '}_{-' + mass_pred[i, 3] + '}$ & '\n",
    "            this_line += mass_pred[i, 5] + '$^{+' + mass_pred[i, 6] + '}_{-' + mass_pred[i, 7] + '}$ \\\\\\\\ '\n",
    "            \n",
    "        elif lim_val == 1:\n",
    "            this_line += '$ \\\\leq $ ' + mass_pred[i, 2] + ' & '\n",
    "            this_line += mass_pred[i, 5] + '$^{+' + mass_pred[i, 6] + '}_{-' + mass_pred[i, 7] + '}$ \\\\\\\\ '\n",
    "            \n",
    "        elif lim_val == 2:\n",
    "            this_line += '$ \\\\geq $ ' + mass_pred[i, 2] + ' & '\n",
    "            this_line += mass_pred[i, 5] + '$^{+' + mass_pred[i, 6] + '}_{-' + mass_pred[i, 7] + '}$ \\\\\\\\ '\n",
    "            \n",
    "        elif lim_val == 3:\n",
    "            this_line += '$ \\\\leq $ ' + mass_pred[i, 2] + ' & '\n",
    "            this_line += '$ \\\\leq $ ' + mass_pred[i, 5] + ' \\\\\\\\ '\n",
    "            \n",
    "        elif lim_val == 4:\n",
    "            this_line += '$ \\\\geq $ ' + mass_pred[i, 2] + ' & '\n",
    "            this_line += '$ \\\\geq $ ' + mass_pred[i, 5] + ' \\\\\\\\ '\n",
    "            \n",
    "            \n",
    "        \n",
    "        final_table += (this_line + ' \\n')\n",
    "        \n",
    "        \n",
    "#And now add rows without literature predictions\n",
    "\n",
    "for i in range(len(mass_pred)):\n",
    "    \n",
    "    if mass_pred[i, 2] == '-1.0': #We could not make a prediction due to lack of sufficiently late spectra\n",
    "        pass\n",
    "    \n",
    "    elif mass_pred[i, 5] == '--': \n",
    "        \n",
    "        this_line = mass_pred[i, 0] + ' & ' + mass_pred[i, 1] + ' & '\n",
    "        \n",
    "        lim_val = float(mass_pred[i, 8])\n",
    "        \n",
    "        if lim_val == 0:\n",
    "            this_line += mass_pred[i, 2] + '$^{+' + mass_pred[i, 4] + '}_{-' + mass_pred[i, 3] + '}$ & -- \\\\\\\\ '\n",
    "            \n",
    "        elif lim_val == 2:\n",
    "            this_line += '$ \\\\geq $ ' + mass_pred[i, 2] + ' & -- \\\\\\\\ '\n",
    "            \n",
    "        elif lim_val == 1:\n",
    "            this_line += '$ \\\\leq $ ' + mass_pred[i, 2] + ' & -- \\\\\\\\'\n",
    "            \n",
    "        final_table += (this_line + ' \\n')"
   ]
  },
  {
   "cell_type": "code",
   "execution_count": 4,
   "id": "7923fb46",
   "metadata": {},
   "outputs": [
    {
     "name": "stdout",
     "output_type": "stream",
     "text": [
      "SN2019odp & Ib & $ \\geq $ 5.2 & 6.9$^{+1.2}_{-1.2}$ \\\\  \n",
      "SN2012au & Ib & $ \\geq $ 5.4 & 7.3$^{+0.7}_{-0.7}$ \\\\  \n",
      "SN2009jf & Ib & $ \\geq $ 5.2 & 7.3$^{+0.7}_{-0.7}$ \\\\  \n",
      "SN2007Y & Ib & $ \\leq $ 3.1 & 2.7$^{+0.0}_{-0.0}$ \\\\  \n",
      "SN1998bw & Ic & $ \\geq $ 5.4 & 7.1$^{+0.9}_{-0.9}$ \\\\  \n",
      "SN2015fn & Ic & $ \\geq $ 5.5 & 8.0$^{+0.0}_{-0.0}$ \\\\  \n",
      "SN2013ge & Ic & 5.2$^{+0.5}_{-0.7}$ & 4.1$^{+0.5}_{-0.5}$ \\\\  \n",
      "SN2011bm & Ic & 4.0$^{+0.4}_{-0.4}$ & 8.0$^{+0.0}_{-0.0}$ \\\\  \n",
      "SN2004aw & Ic & 4.7$^{+1.0}_{-0.7}$ & 6.6$^{+1.4}_{-1.4}$ \\\\  \n",
      "SN1997dq & Ic & 5.2$^{+0.4}_{-0.8}$ & 4.0$^{+0.4}_{-0.4}$ \\\\  \n",
      "SNPTF12gzk & Ic & $ \\geq $ 5.3 & 7.9$^{+0.1}_{-0.1}$ \\\\  \n",
      "SN1993J & IIb & 3.1$^{+0.5}_{-0.5}$ & 4.0$^{+0.5}_{-0.5}$ \\\\  \n",
      "SN2022crv & IIb & 5.3$^{+0.3}_{-0.6}$ & 5.0$^{+0.6}_{-0.6}$ \\\\  \n",
      "SN2011hs & IIb & $ \\leq $ 3.1 & 2.8$^{+0.3}_{-0.3}$ \\\\  \n",
      "SN2011ei & IIb & $ \\leq $ 3.0 & 2.8$^{+0.3}_{-0.3}$ \\\\  \n",
      "SN2011dh & IIb & 3.1$^{+0.2}_{-0.2}$ & 2.9$^{+0.2}_{-0.2}$ \\\\  \n",
      "SN2008ax & IIb & 3.3$^{+0.3}_{-0.3}$ & 3.5$^{+0.3}_{-0.3}$ \\\\  \n",
      "iPTF13bvn & IIb & 3.5$^{+0.8}_{-0.5}$ & 3.3$^{+0.5}_{-0.5}$ \\\\  \n",
      "SNPTF12os & IIb & 3.4$^{+0.6}_{-0.6}$ & 3.3$^{+0.5}_{-0.5}$ \\\\  \n",
      "SN1985F & Ib & 4.4$^{+0.2}_{-0.1}$ & -- \\\\  \n",
      "SN1996aq & Ib & 4.1$^{+0.9}_{-0.5}$ & -- \\\\  \n",
      "SN2004gq & Ib & $ \\geq $ 5.2 & -- \\\\  \n",
      "SN2004dk & Ib & 5.5$^{+0.2}_{-0.5}$ & -- \\\\  \n",
      "SN2004ao & Ib & $ \\geq $ 4.6 & -- \\\\  \n",
      "SNMASTEROTJ1204 & Ib & 3.8$^{+0.3}_{-0.3}$ & -- \\\\  \n",
      "SN2019yz & Ic & 5.1$^{+0.5}_{-1.4}$ & -- \\\\  \n",
      "SN2007I & Ic & 3.8$^{+0.1}_{-0.1}$ & -- \\\\  \n",
      "SN2009K & IIb & 3.3$^{+0.2}_{-0.3}$ & -- \\\\  \n",
      "SN2008bo & IIb & $ \\leq $ 3.2 & -- \\\\ \n",
      "SN2008aq & IIb & 3.1$^{+0.4}_{-0.4}$ & -- \\\\  \n",
      "SN2003bg & IIb & 4.0$^{+0.4}_{-0.4}$ & -- \\\\  \n",
      "SN2001ig & IIb & $ \\geq $ 5.3 & -- \\\\  \n",
      "SN1996cb & IIb & 2.9$^{+0.9}_{-0.2}$ & -- \\\\  \n",
      "\n"
     ]
    }
   ],
   "source": [
    "print(final_table)"
   ]
  },
  {
   "cell_type": "code",
   "execution_count": null,
   "id": "be9af8ad",
   "metadata": {},
   "outputs": [],
   "source": []
  }
 ],
 "metadata": {
  "kernelspec": {
   "display_name": "Python 3 (ipykernel)",
   "language": "python",
   "name": "python3"
  },
  "language_info": {
   "codemirror_mode": {
    "name": "ipython",
    "version": 3
   },
   "file_extension": ".py",
   "mimetype": "text/x-python",
   "name": "python",
   "nbconvert_exporter": "python",
   "pygments_lexer": "ipython3",
   "version": "3.11.5"
  }
 },
 "nbformat": 4,
 "nbformat_minor": 5
}
