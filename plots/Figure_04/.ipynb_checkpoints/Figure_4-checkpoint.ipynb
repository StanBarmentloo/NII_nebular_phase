{
 "cells": [
  {
   "cell_type": "code",
   "execution_count": null,
   "id": "dd254c82",
   "metadata": {},
   "outputs": [],
   "source": [
    "#Imports\n",
    "import os\n",
    "import numpy as np\n",
    "import matplotlib.pyplot as plt"
   ]
  },
  {
   "cell_type": "code",
   "execution_count": null,
   "id": "692769bc",
   "metadata": {},
   "outputs": [],
   "source": [
    "#File paths\n",
    "base_dir = '/home/stba7609/NII_nebular_phase/'\n",
    "results_dir = base_dir + 'mixing_results/'"
   ]
  },
  {
   "cell_type": "code",
   "execution_count": null,
   "id": "17c494c0",
   "metadata": {},
   "outputs": [],
   "source": [
    "#Read in the data\n",
    "mshe_mixing = np.loadtxt(results_dir + 'abundance_4mshe_mixing.dat', dtype = str)\n",
    "mshe_presn = np.loadtxt(results_dir + 'abundance_4mshe_presn.dat', dtype = str)"
   ]
  },
  {
   "cell_type": "code",
   "execution_count": null,
   "id": "664d3e93",
   "metadata": {},
   "outputs": [],
   "source": [
    "#Define some keys\n",
    "n_zone = 0\n",
    "mass = 1\n",
    "velocity = 2\n",
    "density = 3\n",
    "\n",
    "he = 5\n",
    "c = 6\n",
    "n = 7\n",
    "o = 8\n",
    "ne = 11\n",
    "mg = 13\n",
    "si = 14\n",
    "s = 17\n",
    "ni56 = 38\n",
    "\n",
    "accepted_el = [he, c, n, o, ne, mg, si, s, ni56]\n",
    "el_names = ['He', 'C', 'N', 'O', 'Ne', 'Mg', 'Si', 'S', '56Ni']"
   ]
  },
  {
   "cell_type": "code",
   "execution_count": null,
   "id": "a4099989",
   "metadata": {},
   "outputs": [],
   "source": [
    "#Plot mass versus mass fraction before and after explosion\n",
    "fig, ax = plt.subplots(1, 2, width_ratios = (1, 1), sharex = True, sharey = True)\n",
    "\n",
    "\n",
    "\n",
    "for i in range(len(accepted_el)):\n",
    "    el = accepted_el[i]\n",
    "    ax[0].plot(mshe_presn[:, mass].astype(float)-np.min(mshe_presn[:, mass].astype(float)), mshe_presn[:, el].astype(float), label = el_names[i])\n",
    "    ax[1].plot(mshe_mixing[:, mass].astype(float)-np.min(mshe_mixing[:, mass].astype(float)), mshe_mixing[:, el].astype(float))\n",
    "\n",
    "core_index_mixing = np.where( (mshe_mixing[:, o].astype(float) < 2*10**-2) * (mshe_mixing[:, velocity].astype(float) > 5*10**8) )[0][0] - 1\n",
    "ax[1].axvline(x = mshe_mixing[:, mass][core_index_mixing].astype(float)-np.min(mshe_mixing[:, mass].astype(float)), linestyle = '--', c = 'gray')\n",
    "\n",
    "ax[0].set_xlabel('Ejecta Mass Coordinate [$M_{\\odot}$]')\n",
    "ax[1].set_xlabel('Ejecta Mass Coordinate [$M_{\\odot}$]')\n",
    "ax[0].set_ylabel('Mass Fraction')\n",
    "\n",
    "ax[0].axhline(y = 1, linestyle = '--', c = 'black')\n",
    "ax[1].axhline(y = 1, linestyle = '--', c = 'black')\n",
    "\n",
    "ax[0].set_yscale('log')\n",
    "ax[0].set_ylim(10**-4, 2)\n",
    "\n",
    "\n",
    "plt.figlegend(bbox_to_anchor=(0.03, 1.00, 1, 0.05), loc= 'center',\n",
    "              borderaxespad = 0, handletextpad = 0.3, ncol=10 ,columnspacing=1.6, frameon= False)\n",
    "\n",
    "\n",
    "ax[0].set_xlim(0, np.max(mshe_presn[:, mass].astype(float))-np.min(mshe_presn[:, mass].astype(float)))\n",
    "\n",
    "fig.set_size_inches(9, 3.5)\n",
    "fig.tight_layout()\n",
    "\n",
    "plt.savefig('Figure_4.pdf', dpi = 300, bbox_inches=\"tight\")\n",
    "plt.show()"
   ]
  },
  {
   "cell_type": "code",
   "execution_count": null,
   "id": "e9e830b3",
   "metadata": {},
   "outputs": [],
   "source": []
  },
  {
   "cell_type": "code",
   "execution_count": null,
   "id": "7103b7f2",
   "metadata": {},
   "outputs": [],
   "source": []
  }
 ],
 "metadata": {
  "kernelspec": {
   "display_name": "Python 3 (ipykernel)",
   "language": "python",
   "name": "python3"
  },
  "language_info": {
   "codemirror_mode": {
    "name": "ipython",
    "version": 3
   },
   "file_extension": ".py",
   "mimetype": "text/x-python",
   "name": "python",
   "nbconvert_exporter": "python",
   "pygments_lexer": "ipython3",
   "version": "3.11.5"
  }
 },
 "nbformat": 4,
 "nbformat_minor": 5
}
