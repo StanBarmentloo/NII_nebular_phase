{
 "cells": [
  {
   "cell_type": "code",
   "execution_count": null,
   "id": "ae09fe2c",
   "metadata": {},
   "outputs": [],
   "source": [
    "#Imports\n",
    "import numpy as np\n",
    "import os\n",
    "import matplotlib.pyplot as plt"
   ]
  },
  {
   "cell_type": "code",
   "execution_count": null,
   "id": "8dab1072",
   "metadata": {},
   "outputs": [],
   "source": [
    "#Read in the data\n",
    "ex_prespectrum = np.loadtxt('SN2011ei_pre_corr.csv', delimiter = ',')\n",
    "ex_postspectrum = np.loadtxt('SN2011ei_discovery329.csv', delimiter = ',')"
   ]
  },
  {
   "cell_type": "code",
   "execution_count": null,
   "id": "10de1b3a",
   "metadata": {},
   "outputs": [],
   "source": [
    "#Create plots\n",
    "\n",
    "fig, ax = plt.subplots(1, figsize = (5, 5))\n",
    "\n",
    "trans = ax.get_xaxis_transform() #For easier plotting of labels of vertical lines later\n",
    "\n",
    "#Define wl and flux\n",
    "wl_pre, flux_pre = ex_prespectrum[:, 0], ex_prespectrum[:, 1]\n",
    "wl_post, flux_post = ex_postspectrum[:, 0], ex_postspectrum[:, 1]\n",
    "\n",
    "#Zoom in on the OI and NII doublets\n",
    "wl_pre, flux_pre = wl_pre[(wl_pre > 6100) * (wl_pre < 6900)], flux_pre[(wl_pre > 6100) * (wl_pre < 6900)]/np.max(flux_pre[(wl_pre > 6100) * (wl_pre < 6900)])\n",
    "wl_post, flux_post = wl_post[(wl_post > 6100) * (wl_post < 6900)], flux_post[(wl_post > 6100) * (wl_post < 6900)]/np.max(flux_post[(wl_post > 6100) * (wl_post < 6900)])\n",
    "\n",
    "#Remove the continuum in the post spectrum\n",
    "\n",
    "left_continuum_wl =  (wl_post < 6150) * (wl_post > 6100)\n",
    "right_continuum_wl = (wl_post < 6900) * (wl_post > 6850)\n",
    "left_continuum_flux_mean = np.mean(flux_post[left_continuum_wl])\n",
    "right_continuum_flux_mean = np.mean(flux_post[right_continuum_wl])\n",
    "\n",
    "coefficient = (right_continuum_flux_mean-left_continuum_flux_mean) / (6875-6125)\n",
    "continuum_flux_final = coefficient*(wl_post-6875) + right_continuum_flux_mean\n",
    "\n",
    "corrected_flux = flux_post-continuum_flux_final\n",
    "\n",
    "\n",
    "#Plot it\n",
    "ax.plot(wl_pre, flux_pre, label = 'Before Cleaning')\n",
    "ax.plot(wl_post, corrected_flux, label = 'After Cleaning')\n",
    "\n",
    "\n",
    "line_names = np.array([\"[O I] λλ 6300, 6364\", \"[N II] λλ 6548, 6583\"])\n",
    "line_wl = np.array([6300, 6548])\n",
    "colours = ['purple', 'green']\n",
    "\n",
    "for i in range(len(line_names)):\n",
    "    ax.axvline(x = line_wl[i], linestyle = '--', c = colours[i], lw = 1, alpha = 0.8)\n",
    "    fig.text(x = line_wl[i]-30, y = 0.3, s = line_names[i], transform = trans, rotation = 90)\n",
    "    \n",
    "ax.axvline(x = 6363, linestyle = '--', c = 'purple', lw = 1, alpha = 0.8)\n",
    "ax.axvline(x = 6583, linestyle = '--', c = 'green', lw = 1, alpha = 0.8)\n",
    "\n",
    "ax.set_xlim(6100, 6900)\n",
    "ax.set_ylim(bottom = 0)\n",
    "\n",
    "ax.set_xlabel('Rest Wavelength [Å]')\n",
    "ax.set_ylabel('Normalised Flux')\n",
    "\n",
    "ax.legend(frameon = False)\n",
    "\n",
    "plt.savefig('Figure_1.pdf', dpi = 300, bbox_inches=\"tight\")\n",
    "\n",
    "plt.show()"
   ]
  },
  {
   "cell_type": "code",
   "execution_count": null,
   "id": "e7c12cc8",
   "metadata": {},
   "outputs": [],
   "source": []
  }
 ],
 "metadata": {
  "kernelspec": {
   "display_name": "Python 3 (ipykernel)",
   "language": "python",
   "name": "python3"
  },
  "language_info": {
   "codemirror_mode": {
    "name": "ipython",
    "version": 3
   },
   "file_extension": ".py",
   "mimetype": "text/x-python",
   "name": "python",
   "nbconvert_exporter": "python",
   "pygments_lexer": "ipython3",
   "version": "3.11.5"
  }
 },
 "nbformat": 4,
 "nbformat_minor": 5
}
