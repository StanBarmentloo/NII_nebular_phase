{
 "cells": [
  {
   "cell_type": "code",
   "execution_count": null,
   "id": "c09c1639",
   "metadata": {},
   "outputs": [],
   "source": [
    "#Imports\n",
    "import numpy as np\n",
    "import matplotlib.pyplot as plt\n",
    "import os\n",
    "import add_funcs_231023 as af\n",
    "from scipy import integrate\n",
    "from astropy.io import ascii"
   ]
  },
  {
   "cell_type": "code",
   "execution_count": null,
   "id": "18057034",
   "metadata": {},
   "outputs": [],
   "source": [
    "#File paths\n",
    "base_dir = '/home/stba7609/'\n",
    "obs_dir = base_dir + 'SECRETO/WISEREP_IIb/Standardised_spectra/'\n",
    "\n",
    "fnames = sorted(os.listdir(obs_dir))"
   ]
  },
  {
   "cell_type": "code",
   "execution_count": null,
   "id": "41fab2b4",
   "metadata": {},
   "outputs": [],
   "source": [
    "#Read in all observations from SN2011dh\n",
    "wl_list, flux_list = [], []\n",
    "epochs = []\n",
    "\n",
    "for i in range(len(fnames)):\n",
    "    if '2011dh' in fnames[i]:\n",
    "    \n",
    "        spectrum = np.loadtxt(obs_dir + fnames[i] , delimiter = ',')\n",
    "\n",
    "        wl_left, wl_right = 5000, 8000\n",
    "        zoom_mask = (spectrum[:, 0] > wl_left) * (spectrum[:, 1] < wl_right)\n",
    "\n",
    "        wl_zoom, spec_zoom = spectrum[:, 0][zoom_mask], spectrum[:, 1][zoom_mask]\n",
    "\n",
    "        wl_list.append(wl_zoom)\n",
    "        flux_list.append(spec_zoom)\n",
    "        epochs.append(int(fnames[i][-7:-4])) #Store epochs to later select a subset for plotting\n",
    "        \n"
   ]
  },
  {
   "cell_type": "code",
   "execution_count": null,
   "id": "d2896466",
   "metadata": {
    "scrolled": true
   },
   "outputs": [],
   "source": [
    "#Get the best fit params for all obs of SN2011dh\n",
    "\n",
    "popt_best, pcov_best, score_g, tau_best, g_check = af.simultaneous_fitting_g(wl_list, flux_list, epochs, plot = True)\n",
    "if g_check == True: #The velocity for the Gaussian NII is accepted, so we continue with a gaussian\n",
    "    shape = 'g'\n",
    "    pass\n",
    "elif g_check == False: #The velocity is too high, meaning a tophat is a better fit\n",
    "    popt_best, pcov_best, score_th, tau_best = af.simultaneous_fitting_th(wl_list, flux_list, epochs, plot = True)\n",
    "    shape = 'th'\n",
    "    print('The scores are for g and th: ', score_g, score_th, tau_best)"
   ]
  },
  {
   "cell_type": "code",
   "execution_count": null,
   "id": "3b90a5c1",
   "metadata": {
    "scrolled": true
   },
   "outputs": [],
   "source": [
    "#From the best fit params, get the NII amount\n",
    "\n",
    "fitted_NII, fitted_sigma = [], []\n",
    "for k in range(len(epochs)):\n",
    "    wl, flux = wl_list[k], flux_list[k]\n",
    "    popt, pcov = popt_best[k], pcov_best[k]\n",
    "    integrated_NII_flux_my_method, sigma_NII = af.observed_flux_from_fit(wl, flux, popt, pcov, wl_left, wl_right, shape)\n",
    "\n",
    "    fitted_NII.append(integrated_NII_flux_my_method*100)\n",
    "    fitted_sigma.append(sigma_NII*100)\n",
    "    print(\"The NII doublet carries: \", \"{0:.3g}\".format(integrated_NII_flux_my_method*100), \"% of the selected region\")\n"
   ]
  },
  {
   "cell_type": "code",
   "execution_count": null,
   "id": "731c9b55",
   "metadata": {},
   "outputs": [],
   "source": [
    "#Plot a subset of epochs\n",
    "plot_epochs = np.array([155, 201, 239, 292, 359, 415])\n",
    "\n",
    "\n",
    "fig, ax = plt.subplots(2, 3, figsize =  (10, 5), sharex = True, sharey = True)\n",
    "                       \n",
    "for i in range(len(plot_epochs)):\n",
    "                       \n",
    "    index = np.where(plot_epochs[i] == np.array(epochs))[0][0]\n",
    "    wl_data_zoom, flux_data_zoom = wl_list[index], flux_list[index]\n",
    "    \n",
    "    OI_region = (wl_data_zoom > 6100) * (wl_data_zoom < 6900)\n",
    "    normalisation = np.max(flux_data_zoom[OI_region])\n",
    "\n",
    "    ax[int(i/3), i%3].plot(wl_data_zoom, flux_data_zoom/normalisation, c = 'k', alpha = 0.3)\n",
    "    \n",
    "    #Also plot the continuum removed flux\n",
    "    flux_data_zoom_corr = af.continuum_remover(wl_data_zoom, flux_data_zoom)\n",
    "    ax[int(i/3), i%3].plot(wl_data_zoom, flux_data_zoom_corr/normalisation, c = 'green')\n",
    "    \n",
    "    \n",
    "    if tau_best[index] < 0.1:\n",
    "        ax[int(i/3), i%3].plot(wl_data_zoom, af.gaussian(wl_data_zoom, *popt_best[index][::2])/normalisation, c = 'fuchsia', linestyle = '--')\n",
    "        ax[int(i/3), i%3].plot(wl_data_zoom, af.gaussian(wl_data_zoom, *popt_best[index][::2])/normalisation + af.gaussian(wl_data_zoom, *popt_best[index][1::2])/normalisation, c = 'k', linestyle = '--')\n",
    "\n",
    "    else:\n",
    "        ax[int(i/3), i%3].plot(wl_data_zoom, af.escatt(wl_data_zoom, *popt_best[index][::2], tau_best[i])/normalisation, c = 'fuchsia', linestyle = '--')\n",
    "        ax[int(i/3), i%3].plot(wl_data_zoom, af.escatt(wl_data_zoom, *popt_best[index][::2], tau_best[i])/normalisation + af.gaussian(wl_data_zoom, *popt_best[index][1::2])/normalisation, c = 'k', linestyle = '--')\n",
    "\n",
    "    \n",
    "    ax[int(i/3), i%3].plot(wl_data_zoom, af.gaussian(wl_data_zoom, *popt_best[index][1::2])/normalisation, c = 'gold', linestyle = '--')\n",
    "    \n",
    "    \n",
    "    trans = ax[int(i/3), i%3].get_xaxis_transform()\n",
    "    velocity_fwhm = abs(af.v_from_labda(popt_best[index][1]-popt_best[index][5], popt_best[index][1]))\n",
    "    fig.text(6350, 0.7, s = '$V_{FWHM, NII}$ = ' + '{:.4g}'.format( np.sqrt(2*np.log(2)) *velocity_fwhm) + ' km/s', transform = trans)\n",
    "    \n",
    "    fig.text(6540, 0.8, s = 't = ' + '{:.3g}'.format(plot_epochs[i]) + 'd', transform = trans, c = 'red')\n",
    "    \n",
    "#To get the labels right, the following subsection\n",
    "ax[0, 0].plot([0, 1], [0, 1], c = 'k', label = 'Observed Flux', alpha = 0.3)\n",
    "ax[0, 0].plot([0, 1], [0, 1], c = 'green', label = 'Continuum Corrected Flux')\n",
    "ax[0, 0].plot([0, 1], [0, 1], c = 'k', label = 'Total Fit', linestyle = '--')\n",
    "ax[0, 0].plot([0, 1], [0, 1], c = 'fuchsia', label = 'OI Fit', linestyle = '--')\n",
    "ax[0, 0].plot([0, 1], [0, 1], c = 'gold', label = 'NII Fit', linestyle = '--')\n",
    "\n",
    "\n",
    "ax[0, 0].set_xlim(6100, 6900)\n",
    "ax[0, 0].set_ylim(0, 1)\n",
    "\n",
    "fig.text(0.42, 0.02, s = 'Rest Wavelength [Å]', fontsize = 14, c = 'black')\n",
    "fig.text(0.07, 0.36, s = 'Normalised flux', fontsize = 14, c = 'black', rotation = 90)\n",
    "\n",
    "plt.figlegend(bbox_to_anchor=(0.03, 0.93, 1, 0.0), loc= 'center',\n",
    "              borderaxespad = 0, handletextpad = 0.3, ncol=10 ,columnspacing=1.6, frameon= False)\n",
    "\n",
    "fig.savefig('Figure_5.pdf', dpi = 300, bbox_inches = 'tight')\n",
    "plt.show()"
   ]
  },
  {
   "cell_type": "code",
   "execution_count": null,
   "id": "0d420ed0",
   "metadata": {},
   "outputs": [],
   "source": []
  }
 ],
 "metadata": {
  "kernelspec": {
   "display_name": "Python 3 (ipykernel)",
   "language": "python",
   "name": "python3"
  },
  "language_info": {
   "codemirror_mode": {
    "name": "ipython",
    "version": 3
   },
   "file_extension": ".py",
   "mimetype": "text/x-python",
   "name": "python",
   "nbconvert_exporter": "python",
   "pygments_lexer": "ipython3",
   "version": "3.11.5"
  }
 },
 "nbformat": 4,
 "nbformat_minor": 5
}
