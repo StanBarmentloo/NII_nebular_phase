{
 "cells": [
  {
   "cell_type": "code",
   "execution_count": null,
   "id": "543d98ec",
   "metadata": {},
   "outputs": [],
   "source": [
    "import numpy as np\n",
    "import matplotlib.pyplot as plt\n",
    "import os\n",
    "import sys\n",
    "import add_funcs as af\n",
    "import pandas as pd\n",
    "\n",
    "from astropy.io import ascii"
   ]
  },
  {
   "cell_type": "code",
   "execution_count": null,
   "id": "d1c7d651",
   "metadata": {},
   "outputs": [],
   "source": [
    "#Constants\n",
    "\n",
    "M_sun = 1.989*10**33 #g\n",
    "pc = 3.086*10**18 #cm\n",
    "Mpc = 10**6 * pc\n",
    "c = 299792.458 #kms"
   ]
  },
  {
   "cell_type": "code",
   "execution_count": null,
   "id": "cda08b1c",
   "metadata": {},
   "outputs": [],
   "source": [
    "print(float('1.06E-002'))"
   ]
  },
  {
   "cell_type": "code",
   "execution_count": null,
   "id": "beb9f83a",
   "metadata": {},
   "outputs": [],
   "source": [
    "project_name = \"NII_he4p00_AJ_10_90\" #Write as e.g. \"NII_he3p30_AJ_10_90\"\n",
    "epochs = ['200d', '250d', '300d', '350d', '400d'] #Write as e.g. '200d'\n",
    "oxygen_zones = ['001', '002', '003', '004', '005',\n",
    "               '006', '007', '008', '009', '010',\n",
    "               '011', '012', '013'] #Starting at '001'\n",
    "\n",
    "OI_cooling = np.zeros((len(epochs), len(oxygen_zones)))\n",
    "MgI_cooling = np.zeros((len(epochs), len(oxygen_zones)))\n",
    "best_cooler = np.zeros((len(epochs), len(oxygen_zones)), dtype = object)\n",
    "best_cooler_val = np.zeros((len(epochs), len(oxygen_zones)))\n",
    "\n",
    "for j in range(len(epochs)):\n",
    "    for i in range(len(oxygen_zones)):\n",
    "\n",
    "        cooling_path = \"/home/stba7609/Documents/Projects/\" + epochs[j] +  \"/\" + project_name + \"/out/netheating/cooling.dat\" + oxygen_zones[i]\n",
    "        data = open(cooling_path, 'r')\n",
    "        \n",
    "        \n",
    "        cooling_data = pd.read_csv(cooling_path, \n",
    "                 sep=\"\\s+\", \n",
    "                 skiprows=1, \n",
    "                 usecols=[2,3,4,5,6,7,8,9,10,11,12],\n",
    "                 names = ['El', 'abs_cool_tot', 'rel_cool_tot', 'wl_line1', 'wl_line2', 'wl_line3'\n",
    "                          , 'rel_cool_line1', 'rel_cool_line2', 'rel_cool_line3', 'glevel_line1', 'ulevel_line1'])\n",
    "        \n",
    "        OI_index = np.where(cooling_data['El'] == 'OI')[0][0]\n",
    "        MgI_index = np.where(cooling_data['El'] == 'MgI')[0][0]\n",
    "        best_index = np.argmax(cooling_data['rel_cool_tot'])\n",
    "        \n",
    "        OI_cooling[j, i] = cooling_data['rel_cool_tot'][OI_index]\n",
    "        MgI_cooling[j, i] = cooling_data['rel_cool_tot'][MgI_index]\n",
    "        best_cooler[j, i] = cooling_data['El'][best_index]\n",
    "        best_cooler_val[j, i] = cooling_data['rel_cool_tot'][best_index]\n",
    "        \n",
    "        \n",
    "        if i == 3:\n",
    "            print(\"Best cooler in zone: \", oxygen_zones[i], ' at epoch ', epochs[j], ' ', best_cooler[j, i], ' with ', best_cooler_val[j, i])\n",
    "        \n",
    "\n",
    "        \n",
    "                "
   ]
  },
  {
   "cell_type": "code",
   "execution_count": null,
   "id": "8593f3ff",
   "metadata": {},
   "outputs": [],
   "source": [
    "fig, ax = plt.subplots(len(epochs), 1, sharey = True)\n",
    "\n",
    "for i in range(len(epochs)):\n",
    "    \n",
    "    ax[i].plot(np.arange(1, len(oxygen_zones)+1), OI_cooling[i, :], label = epochs[i])\n",
    "    \n",
    "    ax[i].legend()\n",
    "    \n",
    "fig.set_size_inches(15, 20)\n",
    "plt.show()"
   ]
  },
  {
   "cell_type": "code",
   "execution_count": null,
   "id": "72d9e29a",
   "metadata": {},
   "outputs": [],
   "source": [
    "fig, ax = plt.subplots(len(epochs), 1, sharey = True)\n",
    "\n",
    "for i in range(len(epochs)):\n",
    "    \n",
    "    ax[i].plot(np.arange(1, len(oxygen_zones)+1), OI_cooling[i, :]/best_cooler_val[i, :], label = epochs[i])\n",
    "    \n",
    "    ax[i].legend()\n",
    "    \n",
    "fig.set_size_inches(15, 20)\n",
    "plt.show()"
   ]
  },
  {
   "cell_type": "code",
   "execution_count": null,
   "id": "e20c4ff5",
   "metadata": {},
   "outputs": [],
   "source": [
    "fig, ax = plt.subplots(len(epochs), 1, sharey = True)\n",
    "\n",
    "for i in range(len(epochs)):\n",
    "    \n",
    "    ax[i].plot(np.arange(1, len(oxygen_zones)+1), MgI_cooling[i, :], label = epochs[i])\n",
    "    \n",
    "    ax[i].legend()\n",
    "    \n",
    "fig.set_size_inches(15, 20)\n",
    "plt.show()"
   ]
  },
  {
   "cell_type": "code",
   "execution_count": null,
   "id": "8dd74827",
   "metadata": {},
   "outputs": [],
   "source": [
    "fig, ax = plt.subplots(len(epochs), 1, sharey = True)\n",
    "\n",
    "for i in range(len(epochs)):\n",
    "    \n",
    "    ax[i].plot(np.arange(1, len(oxygen_zones)+1), MgI_cooling[i, :]/best_cooler_val[i, :], label = epochs[i])\n",
    "    \n",
    "    ax[i].legend()\n",
    "    \n",
    "fig.set_size_inches(15, 20)\n",
    "plt.show()"
   ]
  },
  {
   "cell_type": "code",
   "execution_count": null,
   "id": "dbf97edc",
   "metadata": {},
   "outputs": [],
   "source": [
    "for i in range(len(epochs)):\n",
    "    print('Here are the most important lines for epoch: ', epochs[i])\n",
    "    for j in range(len(oxygen_zones)):\n",
    "        if j == 3:\n",
    "            print('Zone ', oxygen_zones[j], ': ', best_cooler[i, j])"
   ]
  },
  {
   "cell_type": "markdown",
   "id": "1fb94de7",
   "metadata": {},
   "source": [
    "## Snippets"
   ]
  },
  {
   "cell_type": "code",
   "execution_count": null,
   "id": "8a4dd9d1",
   "metadata": {},
   "outputs": [],
   "source": [
    "print('The data for zone: ', i+1, ' and epoch ', epochs[j])\n",
    "write = False\n",
    "\n",
    "for line in data:\n",
    "    if 'BEST' in line or write == True:\n",
    "        write = True\n",
    "        print(line)\n",
    "\n",
    "    if 'BEST' in line:\n",
    "        counter = 0\n",
    "        for char in line:\n",
    "            if char.isnumeric() and counter > 17:\n",
    "                number_string = line[counter:]\n",
    "                best_cooler[j, i] = float(number_string)\n",
    "                break\n",
    "\n",
    "            counter += 1\n",
    "\n",
    "\n",
    "    if '6300 doublet' in line:\n",
    "        counter = 0\n",
    "        for char in line:\n",
    "            if char.isnumeric() and counter > 17:\n",
    "                number_string = line[counter:]\n",
    "                print(number_string)\n",
    "                OI_cooling[j, i] = float(number_string)\n",
    "                break\n",
    "\n",
    "            counter += 1"
   ]
  }
 ],
 "metadata": {
  "kernelspec": {
   "display_name": "Python 3 (ipykernel)",
   "language": "python",
   "name": "python3"
  },
  "language_info": {
   "codemirror_mode": {
    "name": "ipython",
    "version": 3
   },
   "file_extension": ".py",
   "mimetype": "text/x-python",
   "name": "python",
   "nbconvert_exporter": "python",
   "pygments_lexer": "ipython3",
   "version": "3.9.2"
  }
 },
 "nbformat": 4,
 "nbformat_minor": 5
}
