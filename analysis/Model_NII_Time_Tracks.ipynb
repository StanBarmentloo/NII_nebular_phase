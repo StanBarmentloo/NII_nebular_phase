{
 "cells": [
  {
   "cell_type": "code",
   "execution_count": null,
   "id": "5a456bb5",
   "metadata": {},
   "outputs": [],
   "source": [
    "import numpy as np\n",
    "import matplotlib.pyplot as plt\n",
    "import sys\n",
    "import add_funcs as af\n",
    "import os\n",
    "\n",
    "from scipy import integrate\n",
    "from astropy.io import ascii\n",
    "from tqdm import tqdm"
   ]
  },
  {
   "cell_type": "code",
   "execution_count": null,
   "id": "e50efca9",
   "metadata": {},
   "outputs": [],
   "source": [
    "#Set some global parameters\n",
    "\n",
    "lambda_min = 5000\n",
    "lambda_max = 8000\n",
    "\n",
    "norm = 'OI' #Either 'OI' (normalising by the integrated flux of a fitted OI gaussian)\n",
    "            #or 'Total' (normalising by integrated flux over range lambda_min to lambda_max)\n",
    "            #or 'AJ' (normalising by Lnorm from AJ 2015)"
   ]
  },
  {
   "cell_type": "code",
   "execution_count": null,
   "id": "66f87d4b",
   "metadata": {},
   "outputs": [],
   "source": [
    "#Load in the models:\n",
    "\n",
    "string_epochs = np.array(['200d', '250d', '300d', '350d', '400d']) #Days\n",
    "string_mixings = np.array(['10_90', '20_80', '30_70', '60_40'])\n",
    "string_masses = np.array(['3p30', '4p00', '6p00'])\n",
    "\n",
    "wl_lists, flux_lists, NII_flux_lists = [], [], []\n",
    "\n",
    "for i in range(len(string_epochs)):\n",
    "    \n",
    "    epoch = string_epochs[i]\n",
    "    local_wl_list, local_flux_list, local_NII_flux_list = [], [], []\n",
    "    \n",
    "    for k in range(len(string_masses)):\n",
    "        for l in range(len(string_mixings)):\n",
    "            \n",
    "            model_name = '/NII_he' + string_masses[k] + '_AJ_' + string_mixings[l]\n",
    "            spectrum_path = \"/home/stba7609/Documents/Projects/\" + epoch + model_name + \"/out/modelspectra/spectrum.datrun001\"\n",
    "            data = ascii.read(spectrum_path)\n",
    "            \n",
    "            local_wl_list.append(data['col1'])\n",
    "            local_flux_list.append(data['col2'])\n",
    "            local_NII_flux_list.append(data['col15'])\n",
    "            \n",
    "    wl_lists.append(local_wl_list)\n",
    "    flux_lists.append(local_flux_list)\n",
    "    NII_flux_lists.append(local_NII_flux_list)"
   ]
  },
  {
   "cell_type": "code",
   "execution_count": null,
   "id": "f11bd445",
   "metadata": {
    "scrolled": false
   },
   "outputs": [],
   "source": [
    "#Get the NII fitted fluxes\n",
    "M_sun = 1.989*10**33 #g\n",
    "\n",
    "NII_percentages_fit = np.zeros((3, 4, 5)) #3 masses, 4 mixings, 5 epochs\n",
    "ni_masses = np.array([0.04, 0.0445, 0.0704])*M_sun\n",
    "epochs = np.array([200, 250, 300, 350, 400])\n",
    "\n",
    "distance = 10*10**6 *3.086*10**18 #10 Mpc\n",
    "surface = 4*np.pi*distance**2\n",
    "\n",
    "for i in tqdm(range(len(string_masses))):\n",
    "    M_Ni = ni_masses[i]\n",
    "    for j in tqdm(range(len(string_mixings))):\n",
    "        for k in range(len(string_epochs)):\n",
    "            \n",
    "            wl, flux = np.array(wl_lists[k][4*i + j]), np.array(flux_lists[k][4*i + j])\n",
    "            \n",
    "            zoom_mask = (wl > lambda_min) * (wl < lambda_max)\n",
    "            wl_zoom, flux_zoom = wl[zoom_mask], flux[zoom_mask]\n",
    "            \n",
    "            NII_integrated_flux, popt = af.observed_flux_from_fit(wl_zoom, flux_zoom)\n",
    "            \n",
    "            if norm == 'OI':\n",
    "                norm_mask2 = (wl > 6100) * (wl < 6800)\n",
    "                OI_flux = af.gaussian(wl[norm_mask2], 6316, popt[0], popt[2])\n",
    "                normalisation_flux = integrate.cumtrapz(OI_flux, wl[norm_mask2])[-1]\n",
    "                print(NII_integrated_flux*100/normalisation_flux, i, j)\n",
    "            elif norm == 'Total':\n",
    "                normalisation_flux = integrate.cumtrapz(flux_zoom, wl_zoom)[-1]\n",
    "            elif norm == 'AJ':\n",
    "                epoch = epochs[k]\n",
    "                normalisation_flux = af.Lnorm_AJ(epoch, M_Ni)/surface\n",
    "            \n",
    "            NII_percentages_fit[i, j, k] = NII_integrated_flux*100/normalisation_flux\n",
    "    "
   ]
  },
  {
   "cell_type": "code",
   "execution_count": null,
   "id": "023ebe25",
   "metadata": {},
   "outputs": [],
   "source": [
    "plt.rcParams[\"font.size\"] = 20"
   ]
  },
  {
   "cell_type": "code",
   "execution_count": null,
   "id": "1048bed9",
   "metadata": {},
   "outputs": [],
   "source": [
    "print(NII_percentages_fit)\n",
    "print(af.Lnorm_AJ(200, 0.04*M_sun))"
   ]
  },
  {
   "cell_type": "code",
   "execution_count": null,
   "id": "c34ba5ac",
   "metadata": {},
   "outputs": [],
   "source": [
    "#Make the plot\n",
    "fig, ax = plt.subplots(1, 3, sharex = True, sharey = True)\n",
    "\n",
    "colours = ['green', 'yellow', 'orange', 'red']\n",
    "\n",
    "epochs_2011dh = np.array([152, 202, 208, 239, 268, 292, 301, 359, 416])\n",
    "percentages_2011dh_4200 = np.array([3.5, 3.7, 3.7, 5.1, 5.4, 6.4, 6.7, 7.8, 8.4 ])\n",
    "percentages_2011dh_5000 = np.array([4.4, 4.9, 5.2, 5.8, 7.3, 8.2, 8.5, 11, 11])\n",
    "percentages_2011dh_AJnorm = np.array([0.533, 0.364, 0.379, 0.303, 0.31, 0.3, 0.256, 0.259, 0.179])\n",
    "\n",
    "epochs_2007Y = np.array([219, 248, 288])\n",
    "percentages_2007Y_4200 = np.array([5.2, 7.9, 9.2])\n",
    "percentages_2007Y_5000 = np.array([6.8, 10.1, 11.6])\n",
    "percentages_2007Y_AJnorm = np.array([0.196, 0.193, 0.139])\n",
    "\n",
    "epochs_2008ax = np.array([280, 328, 359])\n",
    "percentages_2008ax_5000 = np.array([5.2, 5.3, 9])\n",
    "\n",
    "epochs_2004dk = np.array([283, 342])\n",
    "percentages_2004dk_5000 = np.array([2.54, 3.1])\n",
    "\n",
    "epochs = np.array([200, 250, 300, 350, 400])\n",
    "\n",
    "for i in range(len(string_masses)):\n",
    "    \n",
    "    \n",
    "    for j in range(1):\n",
    "        \n",
    "        this_label = \"Fit he\" + string_masses[i] + \"_\" + string_mixings[j]\n",
    "        ax[i].plot(epochs, NII_percentages_fit[i, j, :], color = colours[j], label = this_label)\n",
    "        \n",
    "    #ax[i].plot(epochs_2011dh, percentages_2011dh_4200, linestyle = '--', color = 'black', label = '2011dh')\n",
    "    #ax[i].plot(epochs_2011dh, percentages_2011dh_5000, linestyle = '--', color = 'black', label = '2011dh')\n",
    "    #ax[i].plot(epochs_2007Y, percentages_2007Y_5000, linestyle = ':', color = 'black', label = '2007Y')\n",
    "    #ax[i].plot(epochs_2008ax, percentages_2008ax_5000, linestyle = '-', color = 'black', label = '2008ax')\n",
    "    #ax[i].plot(epochs_2004dk, percentages_2004dk_5000, linestyle = '-.', color = 'black', label = '2004dk')\n",
    "    ax[i].set_xlabel('Time since explosion [d]')\n",
    "    ax[i].legend(fontsize = 14)\n",
    "    \n",
    "ax[0].set_ylabel('Percentage flux in the NII doublet')\n",
    "fig.set_size_inches(20, 12)\n",
    "\n",
    "#plt.savefig('NII_Time_Tracks_newff_Totalnorm.png')\n",
    "plt.show()"
   ]
  },
  {
   "cell_type": "code",
   "execution_count": null,
   "id": "f42bb10a",
   "metadata": {
    "scrolled": false
   },
   "outputs": [],
   "source": [
    "for i in range(5):\n",
    "    \n",
    "    wl, flux = np.array(wl_lists[i][0 + 3]), np.array(flux_lists[i][0 + 3])\n",
    "            \n",
    "    zoom_mask = (wl > lambda_min) * (wl < lambda_max)\n",
    "    wl_zoom, flux_zoom = wl[zoom_mask], flux[zoom_mask]\n",
    "    \n",
    "    plt.plot(wl_zoom, flux_zoom/np.max(flux_zoom))\n",
    "    \n",
    "fig = plt.gcf()\n",
    "fig.set_size_inches(15, 10)\n",
    "plt.show()"
   ]
  },
  {
   "cell_type": "code",
   "execution_count": null,
   "id": "e507a762",
   "metadata": {},
   "outputs": [],
   "source": []
  }
 ],
 "metadata": {
  "kernelspec": {
   "display_name": "Python 3 (ipykernel)",
   "language": "python",
   "name": "python3"
  },
  "language_info": {
   "codemirror_mode": {
    "name": "ipython",
    "version": 3
   },
   "file_extension": ".py",
   "mimetype": "text/x-python",
   "name": "python",
   "nbconvert_exporter": "python",
   "pygments_lexer": "ipython3",
   "version": "3.9.2"
  }
 },
 "nbformat": 4,
 "nbformat_minor": 5
}
